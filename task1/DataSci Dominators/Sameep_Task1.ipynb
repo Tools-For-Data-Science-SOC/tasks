{
 "cells": [
  {
   "cell_type": "code",
   "execution_count": 112,
   "metadata": {},
   "outputs": [],
   "source": [
    "import numpy as np\n",
    "import pandas as pd\n",
    "import matplotlib.pyplot as plt"
   ]
  },
  {
   "cell_type": "code",
   "execution_count": 113,
   "metadata": {},
   "outputs": [],
   "source": [
    "data=pd.read_csv(\"task1.csv\")"
   ]
  },
  {
   "cell_type": "code",
   "execution_count": 114,
   "metadata": {},
   "outputs": [
    {
     "data": {
      "text/html": [
       "<div>\n",
       "<style scoped>\n",
       "    .dataframe tbody tr th:only-of-type {\n",
       "        vertical-align: middle;\n",
       "    }\n",
       "\n",
       "    .dataframe tbody tr th {\n",
       "        vertical-align: top;\n",
       "    }\n",
       "\n",
       "    .dataframe thead th {\n",
       "        text-align: right;\n",
       "    }\n",
       "</style>\n",
       "<table border=\"1\" class=\"dataframe\">\n",
       "  <thead>\n",
       "    <tr style=\"text-align: right;\">\n",
       "      <th></th>\n",
       "      <th>Day</th>\n",
       "      <th>Total cases</th>\n",
       "    </tr>\n",
       "  </thead>\n",
       "  <tbody>\n",
       "    <tr>\n",
       "      <td>0</td>\n",
       "      <td>1</td>\n",
       "      <td>1</td>\n",
       "    </tr>\n",
       "    <tr>\n",
       "      <td>1</td>\n",
       "      <td>2</td>\n",
       "      <td>1</td>\n",
       "    </tr>\n",
       "    <tr>\n",
       "      <td>2</td>\n",
       "      <td>3</td>\n",
       "      <td>1</td>\n",
       "    </tr>\n",
       "    <tr>\n",
       "      <td>3</td>\n",
       "      <td>4</td>\n",
       "      <td>2</td>\n",
       "    </tr>\n",
       "    <tr>\n",
       "      <td>4</td>\n",
       "      <td>5</td>\n",
       "      <td>3</td>\n",
       "    </tr>\n",
       "    <tr>\n",
       "      <td>...</td>\n",
       "      <td>...</td>\n",
       "      <td>...</td>\n",
       "    </tr>\n",
       "    <tr>\n",
       "      <td>94</td>\n",
       "      <td>95</td>\n",
       "      <td>42505</td>\n",
       "    </tr>\n",
       "    <tr>\n",
       "      <td>95</td>\n",
       "      <td>96</td>\n",
       "      <td>46437</td>\n",
       "    </tr>\n",
       "    <tr>\n",
       "      <td>96</td>\n",
       "      <td>97</td>\n",
       "      <td>49400</td>\n",
       "    </tr>\n",
       "    <tr>\n",
       "      <td>97</td>\n",
       "      <td>98</td>\n",
       "      <td>52987</td>\n",
       "    </tr>\n",
       "    <tr>\n",
       "      <td>98</td>\n",
       "      <td>99</td>\n",
       "      <td>56351</td>\n",
       "    </tr>\n",
       "  </tbody>\n",
       "</table>\n",
       "<p>99 rows × 2 columns</p>\n",
       "</div>"
      ],
      "text/plain": [
       "    Day  Total cases\n",
       "0     1            1\n",
       "1     2            1\n",
       "2     3            1\n",
       "3     4            2\n",
       "4     5            3\n",
       "..  ...          ...\n",
       "94   95        42505\n",
       "95   96        46437\n",
       "96   97        49400\n",
       "97   98        52987\n",
       "98   99        56351\n",
       "\n",
       "[99 rows x 2 columns]"
      ]
     },
     "execution_count": 114,
     "metadata": {},
     "output_type": "execute_result"
    }
   ],
   "source": [
    "data"
   ]
  },
  {
   "cell_type": "code",
   "execution_count": 115,
   "metadata": {},
   "outputs": [],
   "source": [
    "X=data.iloc[:,0]\n",
    "Y=data.iloc[:,1]\n"
   ]
  },
  {
   "cell_type": "code",
   "execution_count": 116,
   "metadata": {},
   "outputs": [],
   "source": [
    "Yn=np.array(Y)\n",
    "lnY=np.log(Yn)"
   ]
  },
  {
   "cell_type": "code",
   "execution_count": 117,
   "metadata": {},
   "outputs": [
    {
     "name": "stdout",
     "output_type": "stream",
     "text": [
      "0.11630305651198743 -0.22028559183954108\n"
     ]
    }
   ],
   "source": [
    "m=0\n",
    "c=0\n",
    "L = 0.0001  # The learning Rate\n",
    "epochs = 5000  # The number of iterations\n",
    "n=len(X)\n",
    "for i in range(epochs): \n",
    "    lnY_pred = m*X + c  \n",
    "    D_m = (-2/n) * sum(X * (lnY - lnY_pred)) \n",
    "    D_c = (-2/n) * sum(lnY - lnY_pred) \n",
    "    m = m - L * D_m  \n",
    "    c = c - L * D_c  \n",
    "    \n",
    "print (m, c)\n"
   ]
  },
  {
   "cell_type": "code",
   "execution_count": 118,
   "metadata": {},
   "outputs": [
    {
     "data": {
      "image/png": "[encoded data removed]",
      "text/plain": [
       "<Figure size 432x288 with 1 Axes>"
      ]
     },
     "metadata": {
      "needs_background": "light"
     },
     "output_type": "display_data"
    }
   ],
   "source": [
    "plt.scatter(X, lnY)\n",
    "lnY_pred = m*X + c\n",
    "#plt.scatter(X, lnY_pred)\n",
    "plt.plot([min(X), max(X)], [min(lnY_pred), max(lnY_pred)], color='red') \n",
    "plt.show()"
   ]
  },
  {
   "cell_type": "code",
   "execution_count": 119,
   "metadata": {},
   "outputs": [
    {
     "data": {
      "text/plain": [
       "<matplotlib.collections.PathCollection at 0x1e0e99815c8>"
      ]
     },
     "execution_count": 119,
     "metadata": {},
     "output_type": "execute_result"
    },
    {
     "data": {
      "image/png": "[encoded data removed]",
      "text/plain": [
       "<Figure size 432x288 with 1 Axes>"
      ]
     },
     "metadata": {
      "needs_background": "light"
     },
     "output_type": "display_data"
    }
   ],
   "source": [
    "Y_pred=np.exp(lnY_pred)\n",
    "plt.scatter(X,Y)\n",
    "plt.scatter(X,Y_pred)"
   ]
  },
  {
   "cell_type": "code",
   "execution_count": 120,
   "metadata": {},
   "outputs": [
    {
     "data": {
      "text/plain": [
       "288673"
      ]
     },
     "execution_count": 120,
     "metadata": {},
     "output_type": "execute_result"
    }
   ],
   "source": [
    "#for 110 th day\n",
    "Y_pred110= int(np.exp( m*110+c))\n",
    "Y_pred110"
   ]
  },
  {
   "cell_type": "markdown",
   "metadata": {},
   "source": [
    "\n",
    "1) The predicted number of cases on 110th day is 288673 which is much more than 100000, hence the hospitals would **not** be able to handle these many cases.\n"
   ]
  },
  {
   "cell_type": "markdown",
   "metadata": {},
   "source": [
    "2) On taking the learning rate = 1, we find that change in value of m and c per step is too large and this causes them \n",
    "   to not achieve any stable value as before. On running the code with this learning rate and no values of m and c are obtained "
   ]
  },
  {
   "cell_type": "markdown",
   "metadata": {},
   "source": [
    "After that, let us try by taking learning rate = 0.00001, a point to be noted is that reducing the learning rate can increase \n",
    "the precision of regression, but if the number of iterations are insufficient then the answer provided by the regression may\n",
    "not be accurate enough.\n",
    "\n",
    "Generally lower learning rate requires higher number of iterations to work successfully."
   ]
  },
  {
   "cell_type": "code",
   "execution_count": 121,
   "metadata": {},
   "outputs": [
    {
     "name": "stdout",
     "output_type": "stream",
     "text": [
      "0.11332919457115655 -0.023034058252498928\n"
     ]
    }
   ],
   "source": [
    "m=0\n",
    "c=0\n",
    "L = 0.00001  # The learning Rate\n",
    "epochs = 5000  # The number of iterations\n",
    "n=len(X)\n",
    "for i in range(epochs): \n",
    "    lnY_pred = m*X + c  \n",
    "    D_m = (-2/n) * sum(X * (lnY - lnY_pred)) \n",
    "    D_c = (-2/n) * sum(lnY - lnY_pred) \n",
    "    m = m - L * D_m  \n",
    "    c = c - L * D_c  \n",
    "    \n",
    "print (m, c)\n"
   ]
  },
  {
   "cell_type": "markdown",
   "metadata": {},
   "source": [
    "plt.scatter(X, lnY)\n",
    "lnY_pred = m*X + c\n",
    "#plt.scatter(X, lnY_pred)\n",
    "plt.plot([min(X), max(X)], [min(lnY_pred), max(lnY_pred)], color='red') \n",
    "plt.show()"
   ]
  },
  {
   "cell_type": "code",
   "execution_count": 122,
   "metadata": {},
   "outputs": [
    {
     "data": {
      "text/plain": [
       "<matplotlib.collections.PathCollection at 0x1e0e985a4c8>"
      ]
     },
     "execution_count": 122,
     "metadata": {},
     "output_type": "execute_result"
    },
    {
     "data": {
      "image/png": "[encoded data removed]",
      "text/plain": [
       "<Figure size 432x288 with 1 Axes>"
      ]
     },
     "metadata": {
      "needs_background": "light"
     },
     "output_type": "display_data"
    }
   ],
   "source": [
    "Y_pred=np.exp(lnY_pred)\n",
    "plt.scatter(X,Y)\n",
    "plt.scatter(X,Y_pred)"
   ]
  },
  {
   "cell_type": "markdown",
   "metadata": {},
   "source": [
    "In this case , the learning rate = 0.00001 seems to be giving better answer."
   ]
  },
  {
   "cell_type": "code",
   "execution_count": null,
   "metadata": {},
   "outputs": [],
   "source": []
  }
 ],
 "metadata": {
  "kernelspec": {
   "display_name": "Python 3",
   "language": "python",
   "name": "python3"
  },
  "language_info": {
   "codemirror_mode": {
    "name": "ipython",
    "version": 3
   },
   "file_extension": ".py",
   "mimetype": "text/x-python",
   "name": "python",
   "nbconvert_exporter": "python",
   "pygments_lexer": "ipython3",
   "version": "3.7.4"
  }
 },
 "nbformat": 4,
 "nbformat_minor": 2
}
