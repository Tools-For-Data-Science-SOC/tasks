{
  "nbformat": 4,
  "nbformat_minor": 0,
  "metadata": {
    "colab": {
      "name": "Aryan Raj_Task 1 SoC.ipynb",
      "provenance": [],
      "collapsed_sections": []
    },
    "kernelspec": {
      "name": "python3",
      "display_name": "Python 3"
    }
  },
  "cells": [
    {
      "cell_type": "code",
      "metadata": {
        "id": "mRviuvLjdT_n"
      },
      "source": [
        "import numpy as np\n",
        "import pandas as pd\n",
        "import matplotlib.pyplot as plt\n"
      ],
      "execution_count": 73,
      "outputs": []
    },
    {
      "cell_type": "code",
      "metadata": {
        "id": "Oo76L03vlRmD"
      },
      "source": [
        "data=pd.read_csv(\"https://raw.githubusercontent.com/Tools-For-Data-Science-SOC/tasks/main/task1/task1.csv\")"
      ],
      "execution_count": 74,
      "outputs": []
    },
    {
      "cell_type": "code",
      "metadata": {
        "colab": {
          "base_uri": "https://localhost:8080/",
          "height": 407
        },
        "id": "K_JwdzpNmBHE",
        "outputId": "edf2c966-d0d2-4a06-d53d-43df643ea28b"
      },
      "source": [
        "data"
      ],
      "execution_count": 75,
      "outputs": [
        {
          "output_type": "execute_result",
          "data": {
            "text/html": [
              "<div>\n",
              "<style scoped>\n",
              "    .dataframe tbody tr th:only-of-type {\n",
              "        vertical-align: middle;\n",
              "    }\n",
              "\n",
              "    .dataframe tbody tr th {\n",
              "        vertical-align: top;\n",
              "    }\n",
              "\n",
              "    .dataframe thead th {\n",
              "        text-align: right;\n",
              "    }\n",
              "</style>\n",
              "<table border=\"1\" class=\"dataframe\">\n",
              "  <thead>\n",
              "    <tr style=\"text-align: right;\">\n",
              "      <th></th>\n",
              "      <th>Day</th>\n",
              "      <th>Total cases</th>\n",
              "    </tr>\n",
              "  </thead>\n",
              "  <tbody>\n",
              "    <tr>\n",
              "      <th>0</th>\n",
              "      <td>1</td>\n",
              "      <td>1</td>\n",
              "    </tr>\n",
              "    <tr>\n",
              "      <th>1</th>\n",
              "      <td>2</td>\n",
              "      <td>1</td>\n",
              "    </tr>\n",
              "    <tr>\n",
              "      <th>2</th>\n",
              "      <td>3</td>\n",
              "      <td>1</td>\n",
              "    </tr>\n",
              "    <tr>\n",
              "      <th>3</th>\n",
              "      <td>4</td>\n",
              "      <td>2</td>\n",
              "    </tr>\n",
              "    <tr>\n",
              "      <th>4</th>\n",
              "      <td>5</td>\n",
              "      <td>3</td>\n",
              "    </tr>\n",
              "    <tr>\n",
              "      <th>...</th>\n",
              "      <td>...</td>\n",
              "      <td>...</td>\n",
              "    </tr>\n",
              "    <tr>\n",
              "      <th>94</th>\n",
              "      <td>95</td>\n",
              "      <td>42505</td>\n",
              "    </tr>\n",
              "    <tr>\n",
              "      <th>95</th>\n",
              "      <td>96</td>\n",
              "      <td>46437</td>\n",
              "    </tr>\n",
              "    <tr>\n",
              "      <th>96</th>\n",
              "      <td>97</td>\n",
              "      <td>49400</td>\n",
              "    </tr>\n",
              "    <tr>\n",
              "      <th>97</th>\n",
              "      <td>98</td>\n",
              "      <td>52987</td>\n",
              "    </tr>\n",
              "    <tr>\n",
              "      <th>98</th>\n",
              "      <td>99</td>\n",
              "      <td>56351</td>\n",
              "    </tr>\n",
              "  </tbody>\n",
              "</table>\n",
              "<p>99 rows × 2 columns</p>\n",
              "</div>"
            ],
            "text/plain": [
              "    Day  Total cases\n",
              "0     1            1\n",
              "1     2            1\n",
              "2     3            1\n",
              "3     4            2\n",
              "4     5            3\n",
              "..  ...          ...\n",
              "94   95        42505\n",
              "95   96        46437\n",
              "96   97        49400\n",
              "97   98        52987\n",
              "98   99        56351\n",
              "\n",
              "[99 rows x 2 columns]"
            ]
          },
          "metadata": {
            "tags": []
          },
          "execution_count": 75
        }
      ]
    },
    {
      "cell_type": "code",
      "metadata": {
        "id": "SZ3wIn9Tmwca"
      },
      "source": [
        "X=data.iloc[:,0]\n",
        "Z=data.iloc[:,1]\n"
      ],
      "execution_count": 76,
      "outputs": []
    },
    {
      "cell_type": "code",
      "metadata": {
        "id": "tXPUiVYMoL2t"
      },
      "source": [
        "Zn=np.array(Z)\n",
        "lnZ=np.log(Zn)"
      ],
      "execution_count": 77,
      "outputs": []
    },
    {
      "cell_type": "code",
      "metadata": {
        "colab": {
          "base_uri": "https://localhost:8080/",
          "height": 0
        },
        "id": "-qaSduxD6Zn7",
        "outputId": "11a37ffa-b13c-4da7-c0a8-3fdbe27acb14"
      },
      "source": [
        "iter=10000\n",
        "a=0\n",
        "b=0\n",
        "alpha=0.0001\n",
        "m=len(X)\n",
        "for i in range(iter):\n",
        "    lnY=a*X+b\n",
        "    dJa=(1/m)*sum(X*(lnY-lnZ))\n",
        "    dJb=(1/m)*sum(lnY-lnZ)\n",
        "    a=a-alpha*dJa\n",
        "    b=b-alpha*dJb\n",
        "\n",
        "print(a,b)\n"
      ],
      "execution_count": 78,
      "outputs": [
        {
          "output_type": "stream",
          "text": [
            "0.11630302017884313 -0.22028318191985613\n"
          ],
          "name": "stdout"
        }
      ]
    },
    {
      "cell_type": "code",
      "metadata": {
        "colab": {
          "base_uri": "https://localhost:8080/",
          "height": 265
        },
        "id": "6-sqByfSBOrN",
        "outputId": "66df3a13-a5e4-44fb-f405-46e144aa231e"
      },
      "source": [
        "plt.scatter(X, lnZ, color='yellow')\n",
        "lnY = a*X + b\n",
        "#plt.scatter(X, lnY)\n",
        "plt.plot([min(X), max(X)], [min(lnY), max(lnY)], color='black') \n",
        "plt.show()"
      ],
      "execution_count": 79,
      "outputs": [
        {
          "output_type": "display_data",
          "data": {
            "image/png": "[encoded data removed]",
            "text/plain": [
              "<Figure size 432x288 with 1 Axes>"
            ]
          },
          "metadata": {
            "tags": [],
            "needs_background": "light"
          }
        }
      ]
    },
    {
      "cell_type": "code",
      "metadata": {
        "colab": {
          "base_uri": "https://localhost:8080/",
          "height": 312
        },
        "id": "Zz59E_VtDBm-",
        "outputId": "818a4521-a2aa-4179-db5e-6d415deb4fe7"
      },
      "source": [
        "Y=np.exp(lnY)\n",
        "plt.plot(X,Y,color='red')\n",
        "plt.scatter(X,Z)\n",
        "plt.title('Pandemic')\n",
        "plt.xlabel('Number of days')\n",
        "plt.ylabel('Number of cases')\n",
        "plt.legend([r'$\\alpha=0.0001$', \"Actual data\"])\n",
        "plt.show"
      ],
      "execution_count": 80,
      "outputs": [
        {
          "output_type": "execute_result",
          "data": {
            "text/plain": [
              "<function matplotlib.pyplot.show>"
            ]
          },
          "metadata": {
            "tags": []
          },
          "execution_count": 80
        },
        {
          "output_type": "display_data",
          "data": {
            "image/png": "[encoded data removed]",
            "text/plain": [
              "<Figure size 432x288 with 1 Axes>"
            ]
          },
          "metadata": {
            "tags": [],
            "needs_background": "light"
          }
        }
      ]
    },
    {
      "cell_type": "code",
      "metadata": {
        "colab": {
          "base_uri": "https://localhost:8080/",
          "height": 0
        },
        "id": "gENedcXdDENc",
        "outputId": "5b004674-be75-4414-d517-a4168ed704e4"
      },
      "source": [
        "#for 110 th day\n",
        "Y_110=int(np.exp(a*110+b))\n",
        "Y_110"
      ],
      "execution_count": 81,
      "outputs": [
        {
          "output_type": "execute_result",
          "data": {
            "text/plain": [
              "288672"
            ]
          },
          "metadata": {
            "tags": []
          },
          "execution_count": 81
        }
      ]
    },
    {
      "cell_type": "code",
      "metadata": {
        "colab": {
          "base_uri": "https://localhost:8080/",
          "height": 0
        },
        "id": "lfABd_tzEPjX",
        "outputId": "b742d9bb-209e-40ee-dc80-d133af7d906c"
      },
      "source": [
        "iter=5000\n",
        "a=0\n",
        "b=0\n",
        "alpha=0.00001\n",
        "m=len(X)\n",
        "for i in range(iter):\n",
        "    lnY=a*X+b\n",
        "    dJa=(1/m)*sum(X*(lnY-lnZ))\n",
        "    dJb=(1/m)*sum(lnY-lnZ)\n",
        "    a=a-alpha*dJa\n",
        "    b=b-alpha*dJb\n",
        "\n",
        "print(a,b)"
      ],
      "execution_count": 82,
      "outputs": [
        {
          "output_type": "stream",
          "text": [
            "0.11314386800039272 -0.010741641514626898\n"
          ],
          "name": "stdout"
        }
      ]
    },
    {
      "cell_type": "code",
      "metadata": {
        "colab": {
          "base_uri": "https://localhost:8080/",
          "height": 0
        },
        "id": "BKw-PE_dElIz",
        "outputId": "bde8dda0-1656-48d4-f48e-98bf02f9da0c"
      },
      "source": [
        "Y_110= int(np.exp( a*110+b))\n",
        "Y_110"
      ],
      "execution_count": 83,
      "outputs": [
        {
          "output_type": "execute_result",
          "data": {
            "text/plain": [
              "251471"
            ]
          },
          "metadata": {
            "tags": []
          },
          "execution_count": 83
        }
      ]
    },
    {
      "cell_type": "code",
      "metadata": {
        "colab": {
          "base_uri": "https://localhost:8080/",
          "height": 0
        },
        "id": "ntijVZMAFLLQ",
        "outputId": "9ec2598d-244c-499c-981d-9e3cbe836e3d"
      },
      "source": [
        "iter=5000\n",
        "a=0\n",
        "b=0\n",
        "alpha=1\n",
        "m=len(X)\n",
        "for i in range(iter):\n",
        "    lnY=a*X+b\n",
        "    dJa=(1/m)*sum(X*(lnY-lnZ))\n",
        "    dJb=(1/m)*sum(lnY-lnZ)\n",
        "    a=a-alpha*dJa\n",
        "    b=b-alpha*dJb\n",
        "\n",
        "print(a,b)"
      ],
      "execution_count": 84,
      "outputs": [
        {
          "output_type": "stream",
          "text": [
            "nan nan\n"
          ],
          "name": "stdout"
        }
      ]
    },
    {
      "cell_type": "markdown",
      "metadata": {
        "id": "GHXBIZnqCVQi"
      },
      "source": [
        "The Model Outputs that there would be 288672 cases on the 110th day, thus there would not be enough beds available for all patients.\n",
        "With alpha=1, the model diverges hence we don't get any value for c1 and c2.\n",
        "For apha=0.00001, the model converges slower than with alpha=0.0001 and thus, requires more number of iterations to get the optimum answer.\n",
        "\n"
      ]
    }
  ]
}