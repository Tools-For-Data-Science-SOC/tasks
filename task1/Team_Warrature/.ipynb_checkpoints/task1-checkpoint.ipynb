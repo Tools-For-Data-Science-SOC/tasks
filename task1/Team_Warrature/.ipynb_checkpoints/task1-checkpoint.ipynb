{
 "cells": [
  {
   "cell_type": "markdown",
   "id": "located-harris",
   "metadata": {},
   "source": [
    "## Task1 - Team_Warrature"
   ]
  },
  {
   "cell_type": "code",
   "execution_count": 1,
   "id": "severe-pharmaceutical",
   "metadata": {},
   "outputs": [],
   "source": [
    "import numpy as np\n",
    "import matplotlib.pyplot as plt\n",
    "import pandas as pd"
   ]
  },
  {
   "cell_type": "code",
   "execution_count": 2,
   "id": "owned-china",
   "metadata": {},
   "outputs": [
    {
     "name": "stdout",
     "output_type": "stream",
     "text": [
      "   Day  Total cases\n",
      "0    1            1\n",
      "1    2            1\n",
      "2    3            1\n",
      "3    4            2\n",
      "4    5            3\n"
     ]
    }
   ],
   "source": [
    "data = pd.read_csv('task1.csv')\n",
    "print(data.head())"
   ]
  },
  {
   "cell_type": "code",
   "execution_count": 3,
   "id": "judicial-browse",
   "metadata": {},
   "outputs": [
    {
     "name": "stdout",
     "output_type": "stream",
     "text": [
      "0      1\n",
      "1      2\n",
      "2      3\n",
      "3      4\n",
      "4      5\n",
      "      ..\n",
      "94    95\n",
      "95    96\n",
      "96    97\n",
      "97    98\n",
      "98    99\n",
      "Name: Day, Length: 99, dtype: int64\n"
     ]
    }
   ],
   "source": [
    "X = data['Day']\n",
    "print(X)"
   ]
  },
  {
   "cell_type": "code",
   "execution_count": 4,
   "id": "prime-leone",
   "metadata": {},
   "outputs": [
    {
     "name": "stdout",
     "output_type": "stream",
     "text": [
      "0      0.000000\n",
      "1      0.000000\n",
      "2      0.000000\n",
      "3      0.693147\n",
      "4      1.098612\n",
      "        ...    \n",
      "94    10.657377\n",
      "95    10.745852\n",
      "96    10.807706\n",
      "97    10.877802\n",
      "98    10.939355\n",
      "Name: Total cases, Length: 99, dtype: float64\n"
     ]
    }
   ],
   "source": [
    "y = data['Total cases']\n",
    "Y = np.log(y)\n",
    "print(Y)"
   ]
  },
  {
   "cell_type": "code",
   "execution_count": 5,
   "id": "israeli-collective",
   "metadata": {},
   "outputs": [
    {
     "data": {
      "image/png": "[encoded data removed]",
      "text/plain": [
       "<Figure size 432x288 with 1 Axes>"
      ]
     },
     "metadata": {
      "needs_background": "light"
     },
     "output_type": "display_data"
    }
   ],
   "source": [
    "plt.scatter(X,y)\n",
    "plt.xlabel('No. of days')\n",
    "plt.ylabel('Total cases')\n",
    "plt.show()"
   ]
  },
  {
   "cell_type": "code",
   "execution_count": 6,
   "id": "revolutionary-canon",
   "metadata": {},
   "outputs": [
    {
     "name": "stdout",
     "output_type": "stream",
     "text": [
      "0.11630305651198743 -0.22028559183954108\n"
     ]
    }
   ],
   "source": [
    "#Linear Regression model\n",
    "\n",
    "m = 0\n",
    "c = 0\n",
    "\n",
    "L = 0.0001 #learning rate\n",
    "iterations = 5000\n",
    "\n",
    "n = float(len(X))\n",
    "\n",
    "#performing gradient descent\n",
    "\n",
    "for i in range(iterations):\n",
    "    y_predicted = m*X + c\n",
    "    m_derivative = (-2/n)*sum(X*(Y - y_predicted))\n",
    "    c_derivative = (-2/n)*sum(Y - y_predicted)\n",
    "    m -= L*m_derivative\n",
    "    c -= L*c_derivative\n",
    "\n",
    "print(m,c)"
   ]
  },
  {
   "cell_type": "code",
   "execution_count": 7,
   "id": "adopted-removal",
   "metadata": {},
   "outputs": [
    {
     "data": {
      "image/png": "[encoded data removed]",
      "text/plain": [
       "<Figure size 432x288 with 1 Axes>"
      ]
     },
     "metadata": {
      "needs_background": "light"
     },
     "output_type": "display_data"
    }
   ],
   "source": [
    "y_predicted = m*X + c\n",
    "\n",
    "plt.scatter(X,Y)\n",
    "plt.plot( [min(X),max(X)], [min(y_predicted),max(y_predicted)], color = 'red')\n",
    "\n",
    "plt.title('Liner Regression')\n",
    "plt.xlabel('N0. of days')\n",
    "plt.ylabel('Log of total cases')\n",
    "\n",
    "plt.show()"
   ]
  },
  {
   "cell_type": "code",
   "execution_count": 8,
   "id": "specified-venice",
   "metadata": {},
   "outputs": [
    {
     "name": "stdout",
     "output_type": "stream",
     "text": [
      "288674.0\n"
     ]
    }
   ],
   "source": [
    "#printing cases on 110th day\n",
    "\n",
    "cases = np.exp(m*110 + c)\n",
    "print(np.ceil(cases))"
   ]
  },
  {
   "cell_type": "markdown",
   "id": "parental-lancaster",
   "metadata": {},
   "source": [
    "### Question 1:"
   ]
  },
  {
   "cell_type": "markdown",
   "id": "comfortable-diagram",
   "metadata": {},
   "source": [
    "There are not enough beds in the hospital to occupy all the patients."
   ]
  },
  {
   "cell_type": "markdown",
   "id": "balanced-barrier",
   "metadata": {},
   "source": [
    "### Question 2:"
   ]
  },
  {
   "cell_type": "markdown",
   "id": "binding-liechtenstein",
   "metadata": {},
   "source": [
    "If the learning rate(L) was too large (L=1), the model will learn faster and will result in overshooting the minima of cost function and end up with divergence predicting wrong outputs.\n",
    "\n",
    "On the other hand if the learning rate is too small (L=0.00001), it will result in smaller updates to m and c, and eventually the model will take a lot of time for learning."
   ]
  }
 ],
 "metadata": {
  "kernelspec": {
   "display_name": "Python 3",
   "language": "python",
   "name": "python3"
  },
  "language_info": {
   "codemirror_mode": {
    "name": "ipython",
    "version": 3
   },
   "file_extension": ".py",
   "mimetype": "text/x-python",
   "name": "python",
   "nbconvert_exporter": "python",
   "pygments_lexer": "ipython3",
   "version": "3.9.0"
  }
 },
 "nbformat": 4,
 "nbformat_minor": 5
}
